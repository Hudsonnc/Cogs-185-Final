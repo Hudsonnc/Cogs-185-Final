{
 "cells": [
  {
   "cell_type": "code",
   "execution_count": 1,
   "metadata": {
    "collapsed": true
   },
   "outputs": [],
   "source": [
    "import re\n",
    "import numpy as np\n",
    "import math\n",
    "import tensorflow as tf\n",
    "\n",
    "from matplotlib import pyplot as plt\n",
    "%matplotlib inline\n",
    "import sklearn.datasets\n",
    "from sklearn import preprocessing, model_selection\n",
    "from sklearn.preprocessing import OneHotEncoder\n"
   ]
  },
  {
   "cell_type": "markdown",
   "metadata": {},
   "source": [
    "# Data loading"
   ]
  },
  {
   "cell_type": "code",
   "execution_count": 2,
   "metadata": {
    "collapsed": true
   },
   "outputs": [],
   "source": [
    "from sklearn.datasets import fetch_mldata\n",
    "mnist = fetch_mldata('MNIST original', data_home='data/mnist')"
   ]
  },
  {
   "cell_type": "code",
   "execution_count": null,
   "metadata": {
    "collapsed": true
   },
   "outputs": [],
   "source": []
  },
  {
   "cell_type": "code",
   "execution_count": 3,
   "metadata": {
    "collapsed": true
   },
   "outputs": [],
   "source": [
    "n = 60000\n",
    "\n",
    "randidx = np.random.choice(mnist.target.shape[0], n, replace=False)\n",
    "\n",
    "# This cell includes the splittign of training and test set.\n",
    "X = mnist['data'][randidx]\n",
    "\n",
    "shapeX = [2, 28, 28]\n",
    "X = 2*(X / 255) - 1 #Normalize to -1,1\n",
    "\n",
    "y = mnist['target'][randidx]\n",
    "enc = preprocessing.OneHotEncoder()\n",
    "y = enc.fit_transform(y.reshape(-1, 1)).toarray()\n",
    "X_train, X_test, y_train, y_test = model_selection.train_test_split(X, y, test_size=0.33, random_state=42)"
   ]
  },
  {
   "cell_type": "code",
   "execution_count": 4,
   "metadata": {},
   "outputs": [
    {
     "data": {
      "text/plain": [
       "<matplotlib.image.AxesImage at 0x7f430976e828>"
      ]
     },
     "execution_count": 4,
     "metadata": {},
     "output_type": "execute_result"
    },
    {
     "data": {
      "image/png": "[encoded data removed]",
      "text/plain": [
       "<matplotlib.figure.Figure at 0x7f430d817860>"
      ]
     },
     "metadata": {},
     "output_type": "display_data"
    }
   ],
   "source": [
    "plt.imshow(X[0].reshape(shapeX[1],shapeX[2]), plt.cm.gray)"
   ]
  },
  {
   "cell_type": "markdown",
   "metadata": {},
   "source": [
    "# Optimal Encoding"
   ]
  },
  {
   "cell_type": "code",
   "execution_count": 5,
   "metadata": {
    "scrolled": false
   },
   "outputs": [
    {
     "name": "stdout",
     "output_type": "stream",
     "text": [
      "WARNING:tensorflow:From /home/hudson/anaconda3/envs/tensorflow/lib/python3.6/site-packages/tensorflow/contrib/learn/python/learn/datasets/base.py:198: retry (from tensorflow.contrib.learn.python.learn.datasets.base) is deprecated and will be removed in a future version.\n",
      "Instructions for updating:\n",
      "Use the retry module or similar alternatives.\n"
     ]
    }
   ],
   "source": [
    "from networks import MLP\n",
    "from OptimalEncoding import OptimalEncoding"
   ]
  },
  {
   "cell_type": "markdown",
   "metadata": {},
   "source": [
    "## Autoencoding"
   ]
  },
  {
   "cell_type": "code",
   "execution_count": 6,
   "metadata": {
    "collapsed": true
   },
   "outputs": [],
   "source": [
    "n_in = X.shape[-1]\n",
    "n_cts = 0\n",
    "n_categorical = 10\n",
    "\n",
    "depth = 1\n",
    "widths_in = [500]\n",
    "widths_out = widths_in[::-1]"
   ]
  },
  {
   "cell_type": "code",
   "execution_count": 7,
   "metadata": {},
   "outputs": [
    {
     "data": {
      "text/plain": [
       "[500]"
      ]
     },
     "execution_count": 7,
     "metadata": {},
     "output_type": "execute_result"
    }
   ],
   "source": [
    "widths_in[::-1]"
   ]
  },
  {
   "cell_type": "code",
   "execution_count": 8,
   "metadata": {
    "collapsed": true
   },
   "outputs": [],
   "source": [
    "encoder = MLP(n_in, 2*n_cts + n_categorical, depth, widths_in)\n",
    "decoder = MLP(n_cts + n_categorical, n_in, depth, widths_out)"
   ]
  },
  {
   "cell_type": "code",
   "execution_count": 9,
   "metadata": {
    "collapsed": true,
    "scrolled": false
   },
   "outputs": [],
   "source": [
    "oe = OptimalEncoding(encoder, decoder, n_cts, n_categorical)"
   ]
  },
  {
   "cell_type": "code",
   "execution_count": 10,
   "metadata": {
    "scrolled": false
   },
   "outputs": [
    {
     "name": "stderr",
     "output_type": "stream",
     "text": [
      "100%|██████████| 1000/1000 [23:08<00:00,  1.39s/it]\n"
     ]
    },
    {
     "data": {
      "image/png": "[encoded data removed]",
      "text/plain": [
       "<matplotlib.figure.Figure at 0x7f42d3224128>"
      ]
     },
     "metadata": {},
     "output_type": "display_data"
    }
   ],
   "source": [
    "oe.train(X_train, epochs=1000, batch_size=64, lr=1e-2, tau_rate = 1e-4)"
   ]
  },
  {
   "cell_type": "code",
   "execution_count": 11,
   "metadata": {
    "collapsed": true
   },
   "outputs": [],
   "source": [
    "zhat = oe.encode(X_train)"
   ]
  },
  {
   "cell_type": "code",
   "execution_count": 12,
   "metadata": {},
   "outputs": [
    {
     "data": {
      "image/png": "[encoded data removed]",
      "text/plain": [
       "<matplotlib.figure.Figure at 0x7f42c0011ac8>"
      ]
     },
     "metadata": {},
     "output_type": "display_data"
    }
   ],
   "source": [
    "xhat = oe.decode(zhat)\n",
    "\n",
    "fig, ax = plt.subplots(figsize = (20,10), nrows=2, ncols=5)\n",
    "for i in range(len(ax)):\n",
    "    row = ax[i]\n",
    "    for j in range(len(row)):\n",
    "        subplt = row[j]\n",
    "        if i == 0:\n",
    "            subplt.set_title(\"$X_%d$\" %(j))\n",
    "            subplt.imshow(X_train[j].reshape((shapeX[1],shapeX[2])), plt.cm.gray)\n",
    "        if i == 1:\n",
    "            subplt.set_title(\"$\\hat{X}_%d$\" %(j))\n",
    "            subplt.imshow(xhat[j].reshape((shapeX[1],shapeX[2])), plt.cm.gray)\n",
    "        \n",
    "        subplt.axis('off')\n",
    "        \n",
    "fig.subplots_adjust(wspace=None, hspace=None)\n",
    "plt.show()"
   ]
  },
  {
   "cell_type": "code",
   "execution_count": 13,
   "metadata": {},
   "outputs": [
    {
     "data": {
      "text/plain": [
       "array([ 0.09009951,  0.1038806 ,  0.09616915,  0.07895523,  0.10870647,\n",
       "        0.08684079,  0.11124378,  0.12119403,  0.09865671,  0.10425373], dtype=float32)"
      ]
     },
     "execution_count": 13,
     "metadata": {},
     "output_type": "execute_result"
    }
   ],
   "source": [
    "np.mean(zhat[:,-n_categorical:], 0)"
   ]
  },
  {
   "cell_type": "code",
   "execution_count": 14,
   "metadata": {
    "collapsed": true
   },
   "outputs": [],
   "source": [
    "zhat = oe.encode(X_test)"
   ]
  },
  {
   "cell_type": "code",
   "execution_count": 15,
   "metadata": {},
   "outputs": [
    {
     "data": {
      "image/png": "[encoded data removed]",
      "text/plain": [
       "<matplotlib.figure.Figure at 0x7f4268e3d0f0>"
      ]
     },
     "metadata": {},
     "output_type": "display_data"
    }
   ],
   "source": [
    "xhat = oe.decode(zhat)\n",
    "\n",
    "fig, ax = plt.subplots(figsize = (20,10), nrows=2, ncols=5)\n",
    "for i in range(len(ax)):\n",
    "    row = ax[i]\n",
    "    for j in range(len(row)):\n",
    "        subplt = row[j]\n",
    "        if i == 0:\n",
    "            subplt.set_title(\"$X_%d$\" %(j))\n",
    "            subplt.imshow(X_test[j].reshape((shapeX[1],shapeX[2])), plt.cm.gray)\n",
    "        if i == 1:\n",
    "            subplt.set_title(\"$\\hat{X}_%d$\" %(j))\n",
    "            subplt.imshow(xhat[j].reshape((shapeX[1],shapeX[2])), plt.cm.gray)\n",
    "        \n",
    "        subplt.axis('off')\n",
    "        \n",
    "fig.subplots_adjust(wspace=None, hspace=None)\n",
    "plt.show()"
   ]
  },
  {
   "cell_type": "code",
   "execution_count": 16,
   "metadata": {},
   "outputs": [
    {
     "name": "stdout",
     "output_type": "stream",
     "text": [
      "[ 0.09242424  0.10191919  0.09873737  0.07767677  0.1080303   0.08666667\n",
      "  0.10525253  0.1220202   0.10030303  0.1069697 ]\n"
     ]
    }
   ],
   "source": [
    "print(np.mean(zhat, 0))"
   ]
  },
  {
   "cell_type": "code",
   "execution_count": 17,
   "metadata": {},
   "outputs": [
    {
     "data": {
      "text/plain": [
       "<matplotlib.image.AxesImage at 0x7f42696a2ac8>"
      ]
     },
     "execution_count": 17,
     "metadata": {},
     "output_type": "execute_result"
    },
    {
     "data": {
      "image/png": "[encoded data removed]",
      "text/plain": [
       "<matplotlib.figure.Figure at 0x7f426956e3c8>"
      ]
     },
     "metadata": {},
     "output_type": "display_data"
    }
   ],
   "source": [
    "z_cts = np.random.normal(size=(1, n_cts))\n",
    "if n_categorical > 0:\n",
    "    onehot = OneHotEncoder(n_values=n_categorical, sparse=False)\n",
    "    z_categorical = onehot.fit_transform(np.random.randint(n_categorical, size=(1,1)))\n",
    "    z = np.hstack((z_cts, z_categorical))\n",
    "else: z = z_cts\n",
    "Xgen = oe.decode(z)\n",
    "plt.imshow(Xgen[0].reshape(shapeX[1],shapeX[2]), plt.cm.gray)"
   ]
  },
  {
   "cell_type": "code",
   "execution_count": 18,
   "metadata": {},
   "outputs": [
    {
     "name": "stdout",
     "output_type": "stream",
     "text": [
      "[[ 1.  0.  0.  0.  0.  0.  0.  0.  0.  0.]]\n",
      "[[ 0.  1.  0.  0.  0.  0.  0.  0.  0.  0.]]\n",
      "[[ 0.  0.  1.  0.  0.  0.  0.  0.  0.  0.]]\n",
      "[[ 0.  0.  0.  1.  0.  0.  0.  0.  0.  0.]]\n",
      "[[ 0.  0.  0.  0.  1.  0.  0.  0.  0.  0.]]\n",
      "[[ 0.  0.  0.  0.  0.  1.  0.  0.  0.  0.]]\n",
      "[[ 0.  0.  0.  0.  0.  0.  1.  0.  0.  0.]]\n",
      "[[ 0.  0.  0.  0.  0.  0.  0.  1.  0.  0.]]\n",
      "[[ 0.  0.  0.  0.  0.  0.  0.  0.  1.  0.]]\n",
      "[[ 0.  0.  0.  0.  0.  0.  0.  0.  0.  1.]]\n"
     ]
    },
    {
     "data": {
      "image/png": "[encoded data removed]",
      "text/plain": [
       "<matplotlib.figure.Figure at 0x7f4269617ac8>"
      ]
     },
     "metadata": {},
     "output_type": "display_data"
    }
   ],
   "source": [
    "z_cts = np.random.normal(size=(1, n_cts))\n",
    "fig, ax = plt.subplots(figsize = (20,8), nrows=2, ncols=5)\n",
    "for i in range(len(ax)):\n",
    "    row = ax[i]\n",
    "    for j in range(len(row)):\n",
    "        subplt = row[j]\n",
    "\n",
    "        onehot = OneHotEncoder(n_values=n_categorical, sparse=False)\n",
    "        z_categorical = onehot.fit_transform([[i*5+j]])\n",
    "        z = np.hstack((z_cts, z_categorical))\n",
    "        print(z)\n",
    "\n",
    "        Xgen = oe.decode(z)\n",
    "        subplt.imshow(Xgen[0].reshape(shapeX[1],shapeX[2]), plt.cm.gray)\n",
    "\n",
    "        subplt.axis('off')\n",
    "        \n",
    "fig.subplots_adjust(wspace=None, hspace=None)\n",
    "plt.show()"
   ]
  },
  {
   "cell_type": "code",
   "execution_count": 19,
   "metadata": {
    "collapsed": true
   },
   "outputs": [],
   "source": [
    "from scipy.stats import mode\n",
    "fixed = np.copy(zhat)\n",
    "for i in range(10):\n",
    "    result = mode(np.argmax(y_test, 1)[np.where(np.argmax(zhat, 1) == i)[0]])[0][0]\n",
    "    fixed[np.where(np.argmax(zhat, 1) == i)[0], :] = 0\n",
    "    fixed[np.where(np.argmax(zhat, 1) == i)[0], i] = 1"
   ]
  },
  {
   "cell_type": "code",
   "execution_count": 20,
   "metadata": {},
   "outputs": [
    {
     "data": {
      "text/plain": [
       "0.1248989898989899"
      ]
     },
     "execution_count": 20,
     "metadata": {},
     "output_type": "execute_result"
    }
   ],
   "source": [
    "np.mean(np.argmax(fixed, 1) == np.argmax(y_test, 1))"
   ]
  }
 ],
 "metadata": {
  "kernelspec": {
   "display_name": "Python [conda env:tensorflow]",
   "language": "python",
   "name": "conda-env-tensorflow-py"
  },
  "language_info": {
   "codemirror_mode": {
    "name": "ipython",
    "version": 3
   },
   "file_extension": ".py",
   "mimetype": "text/x-python",
   "name": "python",
   "nbconvert_exporter": "python",
   "pygments_lexer": "ipython3",
   "version": "3.6.1"
  }
 },
 "nbformat": 4,
 "nbformat_minor": 2
}
